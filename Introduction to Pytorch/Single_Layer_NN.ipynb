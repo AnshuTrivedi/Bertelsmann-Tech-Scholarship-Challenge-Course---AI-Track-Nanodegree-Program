{
 "cells": [
  {
   "cell_type": "code",
   "execution_count": 1,
   "metadata": {},
   "outputs": [],
   "source": [
    "import torch"
   ]
  },
  {
   "cell_type": "code",
   "execution_count": 5,
   "metadata": {},
   "outputs": [],
   "source": [
    "def activation(x):\n",
    "    \"\"\" Sigmoid activation \n",
    "        function argiments\n",
    "    \"\"\"\n",
    "    return 1/(1+torch.exp(-x))"
   ]
  },
  {
   "cell_type": "code",
   "execution_count": 6,
   "metadata": {},
   "outputs": [],
   "source": [
    "# generate some random data\n",
    "torch.manual_seed(10)  # set random seeds so things are predictable\n",
    "\n",
    "# features are 5 random normal variables\n",
    "features=torch.randn(1,5)\n",
    "\n",
    "# true weights for data, random normal variables again\n",
    "weights=torch.randn_like(features)\n",
    "\n",
    "# true bias term\n",
    "bias=torch.randn((1,1))   # one element i.e 1 row an 1 column\n"
   ]
  },
  {
   "cell_type": "code",
   "execution_count": 15,
   "metadata": {},
   "outputs": [
    {
     "name": "stdout",
     "output_type": "stream",
     "text": [
      "tensor([[0.9748]])\n",
      "tensor([[0.9748]])\n"
     ]
    }
   ],
   "source": [
    "# small NN\n",
    "y=activation(torch.sum(features*weights)+bias)\n",
    "print(y)\n",
    "\n",
    "y=activation((features*weights).sum()+bias)\n",
    "print(y)"
   ]
  },
  {
   "cell_type": "markdown",
   "metadata": {},
   "source": [
    "## use `matrix multiplication` because it does multiplication and sum in one operation\n",
    "* torch.mm(m1,m2)\n",
    "* torch.matmul(m1,m2)"
   ]
  },
  {
   "cell_type": "code",
   "execution_count": 17,
   "metadata": {},
   "outputs": [],
   "source": [
    "# torch.mm(features,weights) gives error size mismatch\n",
    "## reshape weights tensor "
   ]
  },
  {
   "cell_type": "markdown",
   "metadata": {},
   "source": [
    "## reshape  tensor functions\n",
    "* tensor.reshape(a,b)  returns new tensor\n",
    "* tensor.resize(a,b)  returns same tensor with new size\n",
    "* tensor.view(a,b)    returns new tensor "
   ]
  },
  {
   "cell_type": "code",
   "execution_count": 18,
   "metadata": {},
   "outputs": [
    {
     "data": {
      "text/plain": [
       "torch.Size([1, 5])"
      ]
     },
     "execution_count": 18,
     "metadata": {},
     "output_type": "execute_result"
    }
   ],
   "source": [
    "weights.shape"
   ]
  },
  {
   "cell_type": "code",
   "execution_count": 21,
   "metadata": {},
   "outputs": [
    {
     "data": {
      "text/plain": [
       "torch.Size([5, 1])"
      ]
     },
     "execution_count": 21,
     "metadata": {},
     "output_type": "execute_result"
    }
   ],
   "source": [
    "weights.resize_(5,1)\n",
    "weights.shape"
   ]
  },
  {
   "cell_type": "code",
   "execution_count": 22,
   "metadata": {},
   "outputs": [
    {
     "data": {
      "text/plain": [
       "tensor([[4.5947]])"
      ]
     },
     "execution_count": 22,
     "metadata": {},
     "output_type": "execute_result"
    }
   ],
   "source": [
    "torch.mm(features,weights)"
   ]
  },
  {
   "cell_type": "code",
   "execution_count": 23,
   "metadata": {},
   "outputs": [
    {
     "name": "stdout",
     "output_type": "stream",
     "text": [
      "tensor([[0.9748]])\n"
     ]
    }
   ],
   "source": [
    "# output using matrix multiplication\n",
    "y=activation(torch.mm(features,weights)+bias)\n",
    "print(y)"
   ]
  }
 ],
 "metadata": {
  "kernelspec": {
   "display_name": "Python 3",
   "language": "python",
   "name": "python3"
  },
  "language_info": {
   "codemirror_mode": {
    "name": "ipython",
    "version": 3
   },
   "file_extension": ".py",
   "mimetype": "text/x-python",
   "name": "python",
   "nbconvert_exporter": "python",
   "pygments_lexer": "ipython3",
   "version": "3.7.3"
  }
 },
 "nbformat": 4,
 "nbformat_minor": 2
}
