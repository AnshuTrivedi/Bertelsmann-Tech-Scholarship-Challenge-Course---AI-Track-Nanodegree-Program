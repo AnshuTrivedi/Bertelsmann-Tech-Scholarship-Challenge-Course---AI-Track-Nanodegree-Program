{
 "cells": [
  {
   "cell_type": "code",
   "execution_count": 38,
   "metadata": {},
   "outputs": [],
   "source": [
    "%matplotlib inline\n",
    "%config InlineBackend.figure_format='retina'\n",
    "import torch\n",
    "import matplotlib.pyplot as plt\n",
    "import torchvision"
   ]
  },
  {
   "cell_type": "code",
   "execution_count": 2,
   "metadata": {},
   "outputs": [],
   "source": [
    "from torchvision import datasets,transforms\n",
    "\n",
    "# define transform to normalise the data\n",
    "transform=transforms.Compose([transforms.ToTensor(),transforms.Normalize((0.5,),(0.5,))])\n",
    "batch_size=64\n",
    "# download and train the data set\n",
    "trainset= datasets.MNIST('mnist',download=True,train=True,transform=transform)\n",
    "trainloader= torch.utils.data.DataLoader(trainset,batch_size=64,shuffle=True)\n",
    "testset = torchvision.datasets.MNIST('mnist', train=False,\n",
    "                                       download=True, transform=transform)\n",
    "testloader = torch.utils.data.DataLoader(testset, batch_size=4,\n",
    "                                         shuffle=False, num_workers=2)"
   ]
  },
  {
   "cell_type": "code",
   "execution_count": 3,
   "metadata": {},
   "outputs": [
    {
     "name": "stdout",
     "output_type": "stream",
     "text": [
      "<class 'torch.Tensor'>\n",
      "torch.Size([64, 1, 28, 28])\n",
      "torch.Size([64])\n"
     ]
    }
   ],
   "source": [
    "dataiter=iter(trainloader)\n",
    "images,labels=dataiter.next()\n",
    "print(type(images))\n",
    "print(images.shape)\n",
    "print(labels.shape)"
   ]
  },
  {
   "cell_type": "code",
   "execution_count": 4,
   "metadata": {},
   "outputs": [
    {
     "data": {
      "text/plain": [
       "<matplotlib.image.AxesImage at 0x2a341ec6048>"
      ]
     },
     "execution_count": 4,
     "metadata": {},
     "output_type": "execute_result"
    },
    {
     "data": {
      "image/png": "[encoded data removed]",
      "text/plain": [
       "<Figure size 432x288 with 1 Axes>"
      ]
     },
     "metadata": {
      "image/png": {
       "height": 250,
       "width": 253
      },
      "needs_background": "light"
     },
     "output_type": "display_data"
    }
   ],
   "source": [
    "plt.imshow(images[1].numpy().squeeze(),cmap='Greys_r')"
   ]
  },
  {
   "cell_type": "markdown",
   "metadata": {},
   "source": [
    "## Exercise:\n",
    "### * Flatten the batch of images\n",
    "### * Build multilayer NN with 784 input units, 256 hidden unitas, 10 output units using random tensors for  weights and biases\n",
    "### * Use sigmoid for hidden layer , leave output layer without activation function"
   ]
  },
  {
   "cell_type": "code",
   "execution_count": 5,
   "metadata": {},
   "outputs": [],
   "source": [
    "# activation function\n",
    "\n",
    "def activation(x):\n",
    "    return 1/(1+torch.exp(-x))\n"
   ]
  },
  {
   "cell_type": "code",
   "execution_count": 6,
   "metadata": {},
   "outputs": [],
   "source": [
    "# flatten the images\n",
    "\n",
    "inputs=images.view(images.shape[0],-1)"
   ]
  },
  {
   "cell_type": "code",
   "execution_count": 7,
   "metadata": {},
   "outputs": [
    {
     "name": "stdout",
     "output_type": "stream",
     "text": [
      "torch.Size([64, 10])\n",
      "tensor([[1.6243e-02, 9.9801e-01, 8.6279e-08, 9.9998e-01, 1.3484e-03, 9.4174e-01,\n",
      "         1.0000e+00, 9.7759e-01, 9.9065e-01, 1.0000e+00],\n",
      "        [8.2228e-06, 6.6425e-01, 1.3091e-02, 9.8335e-01, 2.1155e-09, 9.4272e-01,\n",
      "         9.9698e-01, 9.8325e-01, 1.7460e-02, 1.0000e+00],\n",
      "        [2.0992e-04, 1.7218e-01, 2.6257e-03, 9.7307e-01, 5.3159e-07, 9.9985e-01,\n",
      "         4.7846e-03, 9.9990e-01, 7.0766e-01, 1.0000e+00],\n",
      "        [1.1360e-06, 7.2552e-02, 1.8037e-06, 9.9997e-01, 1.9841e-07, 1.0000e+00,\n",
      "         1.0000e+00, 9.9926e-01, 9.9935e-01, 1.0000e+00],\n",
      "        [1.5117e-04, 9.9995e-01, 2.5968e-04, 9.9999e-01, 1.7420e-07, 8.6771e-01,\n",
      "         9.9999e-01, 6.9299e-01, 9.9989e-01, 1.0000e+00],\n",
      "        [1.1267e-09, 8.3541e-01, 1.9109e-03, 9.6621e-01, 2.9048e-02, 6.0534e-01,\n",
      "         8.4342e-01, 3.2264e-01, 6.8450e-01, 9.9995e-01],\n",
      "        [8.3695e-08, 4.4126e-01, 1.3269e-04, 1.5560e-01, 2.9224e-04, 9.9984e-01,\n",
      "         9.9929e-01, 1.0470e-01, 9.5831e-01, 1.0000e+00],\n",
      "        [1.3178e-03, 9.9992e-01, 1.4455e-02, 9.9998e-01, 5.3123e-07, 9.4205e-01,\n",
      "         1.0000e+00, 9.9582e-01, 9.9956e-01, 1.0000e+00],\n",
      "        [3.0838e-02, 9.9880e-01, 2.4026e-02, 9.0948e-02, 6.5472e-08, 9.9999e-01,\n",
      "         9.9999e-01, 9.9640e-01, 9.9255e-01, 9.9983e-01],\n",
      "        [5.0188e-02, 9.9988e-01, 3.5969e-06, 9.9961e-01, 3.8465e-11, 9.9807e-01,\n",
      "         9.9999e-01, 9.9822e-01, 9.7529e-01, 1.0000e+00],\n",
      "        [4.1894e-08, 6.2007e-01, 4.7884e-01, 9.9995e-01, 2.7746e-05, 1.0000e+00,\n",
      "         9.9019e-01, 9.9952e-01, 5.8985e-01, 1.0000e+00],\n",
      "        [7.4031e-04, 9.9959e-01, 1.7148e-05, 1.0000e+00, 4.9361e-07, 7.7767e-01,\n",
      "         9.9874e-01, 3.6625e-01, 9.8406e-01, 1.0000e+00],\n",
      "        [7.4799e-04, 6.3544e-02, 2.7460e-01, 3.3542e-01, 4.8951e-08, 9.9999e-01,\n",
      "         6.7771e-01, 1.0000e+00, 7.3431e-01, 1.0000e+00],\n",
      "        [3.6237e-05, 1.0000e+00, 1.4844e-05, 1.0000e+00, 2.3137e-08, 9.9979e-01,\n",
      "         9.9990e-01, 9.9997e-01, 9.9665e-01, 9.9993e-01],\n",
      "        [1.3142e-06, 8.6907e-01, 1.8643e-04, 9.8089e-01, 6.6800e-08, 1.0000e+00,\n",
      "         1.2782e-01, 8.8742e-01, 5.6899e-01, 1.0000e+00],\n",
      "        [7.6866e-01, 9.9999e-01, 1.0723e-04, 9.9998e-01, 3.1463e-10, 9.9996e-01,\n",
      "         9.9994e-01, 9.9999e-01, 9.9883e-01, 9.9993e-01],\n",
      "        [2.7039e-07, 9.8184e-01, 2.2622e-08, 9.6466e-01, 4.8866e-07, 9.9920e-01,\n",
      "         2.1741e-01, 9.8648e-01, 1.0735e-01, 1.0000e+00],\n",
      "        [4.6522e-01, 9.9935e-01, 1.6719e-06, 6.8835e-01, 1.7238e-05, 4.0751e-04,\n",
      "         9.1695e-01, 2.7215e-01, 9.9979e-01, 1.0000e+00],\n",
      "        [2.7930e-04, 9.4858e-01, 8.6455e-01, 9.4404e-01, 5.8768e-01, 9.9987e-01,\n",
      "         2.6379e-01, 9.9983e-01, 9.9394e-01, 1.0000e+00],\n",
      "        [1.6594e-02, 1.0000e+00, 4.8253e-04, 1.0000e+00, 1.0713e-07, 7.8423e-01,\n",
      "         9.9982e-01, 9.9999e-01, 9.9993e-01, 9.9942e-01],\n",
      "        [5.9424e-04, 9.9983e-01, 9.5466e-06, 9.9860e-01, 3.4687e-09, 1.0000e+00,\n",
      "         1.0000e+00, 9.2397e-01, 9.9984e-01, 1.0000e+00],\n",
      "        [1.3272e-02, 1.0002e-03, 1.5674e-07, 9.3795e-01, 1.8125e-08, 9.8437e-01,\n",
      "         9.9999e-01, 9.4474e-01, 6.8626e-02, 1.0000e+00],\n",
      "        [2.6321e-04, 7.2043e-04, 3.5385e-01, 2.6580e-02, 9.6791e-04, 9.9736e-01,\n",
      "         9.9757e-01, 3.8672e-01, 1.1576e-02, 9.9935e-01],\n",
      "        [2.3021e-02, 8.7895e-01, 1.1189e-05, 9.9999e-01, 2.4953e-07, 5.2931e-01,\n",
      "         9.9992e-01, 9.8729e-01, 9.2480e-01, 1.0000e+00],\n",
      "        [4.6048e-06, 9.9425e-01, 1.6874e-07, 9.8453e-01, 6.6726e-05, 8.2704e-01,\n",
      "         5.8895e-02, 9.6670e-01, 7.0591e-01, 1.0000e+00],\n",
      "        [2.3208e-01, 9.9132e-01, 4.6454e-02, 9.7156e-01, 2.5295e-07, 9.9991e-01,\n",
      "         1.3590e-01, 4.6403e-01, 9.8669e-01, 1.0000e+00],\n",
      "        [4.9786e-04, 1.0000e+00, 2.5115e-05, 1.0000e+00, 9.4731e-12, 8.3935e-01,\n",
      "         1.0000e+00, 9.9999e-01, 9.9249e-01, 1.0000e+00],\n",
      "        [9.3070e-01, 9.9948e-01, 1.5499e-03, 9.9994e-01, 1.1906e-06, 1.8121e-01,\n",
      "         8.9778e-01, 1.8304e-01, 8.5681e-01, 1.0000e+00],\n",
      "        [8.3625e-06, 7.3364e-01, 4.1039e-02, 9.9993e-01, 1.5505e-08, 9.9981e-01,\n",
      "         9.9963e-01, 8.6346e-01, 6.4576e-01, 1.0000e+00],\n",
      "        [1.1294e-01, 9.6337e-01, 8.7901e-02, 9.9852e-01, 4.1556e-11, 8.5118e-01,\n",
      "         9.9998e-01, 9.9993e-01, 9.9894e-01, 1.0000e+00],\n",
      "        [2.2754e-05, 7.7050e-01, 1.3547e-03, 1.0000e+00, 1.7583e-04, 9.9610e-01,\n",
      "         9.2309e-02, 8.0615e-01, 9.9691e-01, 1.0000e+00],\n",
      "        [2.1802e-03, 9.9990e-01, 4.9013e-05, 9.9997e-01, 2.6375e-07, 7.4405e-01,\n",
      "         9.9991e-01, 9.9965e-01, 9.9995e-01, 9.9998e-01],\n",
      "        [2.5835e-07, 7.6623e-01, 1.3730e-05, 8.2422e-01, 3.7452e-07, 9.9999e-01,\n",
      "         9.9776e-01, 9.9815e-01, 9.9826e-01, 1.0000e+00],\n",
      "        [5.2849e-03, 9.9992e-01, 6.4110e-03, 9.9862e-01, 7.9377e-08, 9.9986e-01,\n",
      "         9.9711e-01, 1.0000e+00, 9.9999e-01, 1.0000e+00],\n",
      "        [3.6395e-03, 9.9840e-01, 2.6042e-01, 9.9999e-01, 4.4995e-09, 9.9916e-01,\n",
      "         9.9999e-01, 8.8355e-01, 3.3538e-02, 1.0000e+00],\n",
      "        [1.4290e-02, 9.9969e-01, 1.0393e-02, 1.0000e+00, 1.0810e-07, 4.8092e-03,\n",
      "         1.0000e+00, 9.9569e-01, 4.1837e-01, 1.0000e+00],\n",
      "        [6.1221e-05, 8.1530e-01, 1.6075e-01, 9.8017e-01, 8.5916e-07, 9.7567e-01,\n",
      "         1.0000e+00, 7.3771e-01, 9.1864e-01, 9.9992e-01],\n",
      "        [9.9013e-01, 9.9641e-01, 2.1366e-04, 9.9929e-01, 3.7514e-08, 9.9967e-01,\n",
      "         1.0000e+00, 9.9975e-01, 1.0000e+00, 1.0000e+00],\n",
      "        [3.5254e-03, 1.0000e+00, 1.1920e-03, 9.9999e-01, 9.1825e-08, 9.8954e-01,\n",
      "         9.9985e-01, 9.9862e-01, 9.9999e-01, 9.9756e-01],\n",
      "        [4.2672e-05, 1.0000e+00, 1.5158e-04, 1.0000e+00, 1.7293e-11, 1.6769e-01,\n",
      "         9.9980e-01, 1.0000e+00, 9.9935e-01, 1.0000e+00],\n",
      "        [1.0533e-02, 9.4077e-01, 4.2392e-03, 9.9986e-01, 7.2477e-07, 9.9749e-01,\n",
      "         9.9938e-01, 9.0693e-01, 1.6149e-01, 9.9999e-01],\n",
      "        [2.0313e-02, 5.6027e-01, 1.6789e-02, 9.9987e-01, 4.9334e-04, 9.9986e-01,\n",
      "         9.9999e-01, 9.9991e-01, 9.9561e-01, 1.0000e+00],\n",
      "        [9.5466e-01, 9.9950e-01, 3.1592e-03, 9.9993e-01, 9.1677e-05, 9.9998e-01,\n",
      "         9.9997e-01, 9.9992e-01, 3.8180e-01, 1.0000e+00],\n",
      "        [5.0544e-01, 1.0000e+00, 4.3477e-02, 6.3982e-01, 2.0715e-07, 8.9878e-02,\n",
      "         9.9846e-01, 9.9988e-01, 9.9869e-01, 9.9999e-01],\n",
      "        [6.3185e-06, 9.9940e-01, 8.6920e-03, 9.9663e-01, 1.5746e-05, 9.9996e-01,\n",
      "         9.9995e-01, 9.9947e-01, 9.7058e-01, 9.9983e-01],\n",
      "        [4.7384e-03, 8.1151e-01, 3.2741e-04, 7.2248e-02, 7.8029e-07, 9.9972e-01,\n",
      "         1.0000e+00, 2.3468e-02, 9.9236e-01, 9.9998e-01],\n",
      "        [3.5286e-03, 9.9999e-01, 7.5583e-01, 9.9995e-01, 8.8189e-04, 9.9992e-01,\n",
      "         9.9999e-01, 9.9981e-01, 1.0000e+00, 9.9998e-01],\n",
      "        [5.6071e-01, 3.2345e-01, 5.6629e-03, 9.9748e-01, 6.1057e-01, 9.9998e-01,\n",
      "         9.9938e-01, 2.4616e-06, 9.9650e-01, 1.0000e+00],\n",
      "        [7.1502e-04, 6.6052e-01, 2.2871e-03, 9.9282e-01, 5.7041e-06, 9.4894e-01,\n",
      "         9.8079e-01, 9.1355e-01, 9.9397e-01, 1.0000e+00],\n",
      "        [1.4821e-05, 3.4642e-02, 3.7158e-03, 9.8337e-01, 1.6154e-05, 9.9998e-01,\n",
      "         9.9892e-01, 9.7727e-01, 8.4981e-01, 1.0000e+00],\n",
      "        [4.8097e-09, 9.9333e-01, 2.5610e-02, 9.9458e-01, 9.2373e-08, 9.2418e-01,\n",
      "         9.9668e-01, 1.6271e-01, 9.9965e-01, 9.9922e-01],\n",
      "        [6.6480e-05, 9.9731e-01, 1.0574e-06, 1.0000e+00, 4.0019e-08, 1.0000e+00,\n",
      "         9.9785e-01, 9.8573e-01, 6.0412e-05, 1.0000e+00],\n",
      "        [7.1152e-06, 9.9991e-01, 3.7632e-04, 9.9989e-01, 3.3727e-14, 9.9859e-01,\n",
      "         6.6878e-01, 1.0000e+00, 9.9650e-01, 1.0000e+00],\n",
      "        [1.6644e-01, 9.7522e-01, 7.7937e-07, 3.1332e-01, 5.6377e-05, 9.9849e-01,\n",
      "         6.9900e-01, 2.8643e-03, 1.0662e-03, 1.0000e+00],\n",
      "        [3.8472e-04, 9.9999e-01, 2.0897e-05, 9.9986e-01, 6.2894e-08, 5.8038e-02,\n",
      "         1.0000e+00, 9.2905e-01, 7.9508e-01, 1.0000e+00],\n",
      "        [2.2876e-03, 9.9997e-01, 1.7131e-01, 9.9824e-01, 3.2620e-06, 5.4796e-01,\n",
      "         9.5744e-01, 9.6334e-01, 9.9705e-01, 9.9997e-01],\n",
      "        [8.6929e-08, 9.8849e-01, 9.8244e-01, 2.6549e-02, 2.3293e-06, 1.8174e-02,\n",
      "         1.1757e-02, 9.2217e-01, 2.5177e-01, 9.9733e-01],\n",
      "        [4.7583e-03, 9.9719e-01, 5.1546e-06, 9.9961e-01, 3.0366e-03, 1.0000e+00,\n",
      "         9.9098e-01, 9.9998e-01, 9.9191e-01, 9.9997e-01],\n",
      "        [3.1740e-04, 9.8947e-01, 8.7628e-01, 9.8857e-01, 1.7575e-03, 9.9636e-01,\n",
      "         9.9366e-01, 9.9948e-01, 9.9967e-01, 1.0000e+00],\n",
      "        [3.4059e-04, 9.7914e-01, 1.3644e-03, 1.4180e-02, 9.7767e-05, 9.9999e-01,\n",
      "         9.9310e-01, 9.9002e-01, 9.9707e-01, 9.9999e-01],\n",
      "        [6.8148e-01, 9.9999e-01, 3.9127e-05, 1.0000e+00, 1.2018e-08, 9.9999e-01,\n",
      "         3.9327e-01, 9.6095e-01, 9.9431e-01, 1.0000e+00],\n",
      "        [5.6410e-11, 9.9428e-01, 5.1354e-07, 9.9949e-01, 2.3005e-09, 1.0000e+00,\n",
      "         9.3799e-01, 1.0000e+00, 8.4203e-01, 1.0000e+00],\n",
      "        [3.2337e-02, 9.9980e-01, 4.1430e-02, 2.0386e-01, 1.5078e-04, 9.3772e-01,\n",
      "         9.9564e-01, 1.0547e-01, 1.4847e-02, 9.9996e-01],\n",
      "        [1.0348e-01, 9.9843e-01, 1.2022e-03, 9.9998e-01, 3.3789e-05, 9.2777e-01,\n"
     ]
    },
    {
     "name": "stdout",
     "output_type": "stream",
     "text": [
      "         1.0000e+00, 9.9924e-01, 9.9972e-01, 9.9999e-01]])\n"
     ]
    }
   ],
   "source": [
    "# create parameters\n",
    "\n",
    "w1=torch.randn(784,256)\n",
    "b1=torch.randn(256)\n",
    "\n",
    "w2=torch.randn(256,10)\n",
    "b2=torch.randn(10)\n",
    "\n",
    "h=activation(torch.mm(inputs,w1)+b1)\n",
    "\n",
    "out=activation(torch.mm(h,w2)+b2)\n",
    "print(out.shape)\n",
    "print(out)            # probability of each class is roughly same so apply softmax "
   ]
  },
  {
   "cell_type": "code",
   "execution_count": 8,
   "metadata": {},
   "outputs": [
    {
     "name": "stdout",
     "output_type": "stream",
     "text": [
      "torch.Size([64, 10])\n",
      "tensor([1.0000, 1.0000, 1.0000, 1.0000, 1.0000, 1.0000, 1.0000, 1.0000, 1.0000,\n",
      "        1.0000, 1.0000, 1.0000, 1.0000, 1.0000, 1.0000, 1.0000, 1.0000, 1.0000,\n",
      "        1.0000, 1.0000, 1.0000, 1.0000, 1.0000, 1.0000, 1.0000, 1.0000, 1.0000,\n",
      "        1.0000, 1.0000, 1.0000, 1.0000, 1.0000, 1.0000, 1.0000, 1.0000, 1.0000,\n",
      "        1.0000, 1.0000, 1.0000, 1.0000, 1.0000, 1.0000, 1.0000, 1.0000, 1.0000,\n",
      "        1.0000, 1.0000, 1.0000, 1.0000, 1.0000, 1.0000, 1.0000, 1.0000, 1.0000,\n",
      "        1.0000, 1.0000, 1.0000, 1.0000, 1.0000, 1.0000, 1.0000, 1.0000, 1.0000,\n",
      "        1.0000])\n"
     ]
    }
   ],
   "source": [
    "# softmax\n",
    "\n",
    "def softmax(x):\n",
    "    return torch.exp(x)/torch.sum(torch.exp(x),dim=1).view(-1,1)\n",
    "\n",
    "probabilities=softmax(out)\n",
    "\n",
    "print(probabilities.shape)\n",
    "print(probabilities.sum(dim=1))"
   ]
  },
  {
   "cell_type": "markdown",
   "metadata": {},
   "source": [
    "## Build network with pytorch"
   ]
  },
  {
   "cell_type": "code",
   "execution_count": 9,
   "metadata": {},
   "outputs": [
    {
     "data": {
      "text/plain": [
       "Network()"
      ]
     },
     "execution_count": 9,
     "metadata": {},
     "output_type": "execute_result"
    }
   ],
   "source": [
    "from torch import nn\n",
    "\n",
    "class Network(nn.Module):\n",
    "    def _init_(self):\n",
    "        super()._init_()\n",
    "        # Input to hidden layer transformation\n",
    "        self.hidden=nn.Linear(784,256)\n",
    "        \n",
    "        # output layer ,10 units , 1 for each class\n",
    "        self.output=nn.Linear(256,10)\n",
    "        \n",
    "        # define sigmoid and softmax output\n",
    "        self.sigmoid=nn.Sigmoid()\n",
    "        self.softmax=nn.Softmax(dim=1)\n",
    "    def forward(self,x):\n",
    "        # pass input tensor through each operation\n",
    "        x=self.hidden(x)\n",
    "        x=self.sigmoid(x)\n",
    "        x=self.output(x)\n",
    "        x=self.softmax(x)\n",
    "        return x\n",
    "    \n",
    "model = Network()\n",
    "\n",
    "model      "
   ]
  },
  {
   "cell_type": "markdown",
   "metadata": {},
   "source": [
    "### Define network more consisly and precisely using `torch.nn.functional`"
   ]
  },
  {
   "cell_type": "code",
   "execution_count": 10,
   "metadata": {},
   "outputs": [],
   "source": [
    "import torch.nn.functional as F\n",
    "\n",
    "class Network(nn.Module):\n",
    "    def _init_(self):\n",
    "        super()._init_()\n",
    "        #input to hidden layer transformations \n",
    "        self.hidden=nn.Linear(784,256)\n",
    "        #output layer , 10 units,1 for each class\n",
    "        self.output=nn.Linear(256,10)\n",
    "        \n",
    "        # hidden layer with sigmoid function\n",
    "        x=F.sigmoid(self.hidden(x))\n",
    "        \n",
    "        # output layer with softmax function \n",
    "        x=F.softmax(self.softmax(x))\n",
    "        \n",
    "        return x\n",
    "    "
   ]
  },
  {
   "cell_type": "markdown",
   "metadata": {},
   "source": [
    "## Exercise:\n",
    "Build a model that returns a log-softmax as output and calc the loss using the negative log likelihod loss\n",
    "* `nn.LogSoftmax` and `F.log_softmax()`\n",
    "## Loss calculation"
   ]
  },
  {
   "cell_type": "code",
   "execution_count": 11,
   "metadata": {},
   "outputs": [
    {
     "name": "stdout",
     "output_type": "stream",
     "text": [
      "tensor(2.3343, grad_fn=<NllLossBackward>)\n"
     ]
    }
   ],
   "source": [
    "# Build a feedforward network\n",
    "model=nn.Sequential(nn.Linear(784,128),\n",
    "                    nn.ReLU(),\n",
    "                    nn.Linear(128,64),\n",
    "                    nn.ReLU(),\n",
    "                    nn.Linear(64,10),\n",
    "                    nn.LogSoftmax(dim=1))\n",
    "\n",
    "# define thet loss\n",
    "criterion=nn.NLLLoss()\n",
    "\n",
    "# Get data\n",
    "images,labels=next(iter(trainloader))\n",
    "\n",
    "# flatten the images\n",
    "images=images.view(images.shape[0],-1)\n",
    "\n",
    "# forward pass get logigts\n",
    "logits=model(images)\n",
    "\n",
    "# calculate with logits and labels\n",
    "loss=criterion(logits,labels)\n",
    "\n",
    "print(loss)"
   ]
  },
  {
   "cell_type": "markdown",
   "metadata": {},
   "source": [
    "## Gradient calculation"
   ]
  },
  {
   "cell_type": "code",
   "execution_count": 12,
   "metadata": {},
   "outputs": [
    {
     "name": "stdout",
     "output_type": "stream",
     "text": [
      "before backward pass\n",
      " None\n",
      "After backward pass \n",
      " tensor([[ 0.0000,  0.0000,  0.0000,  ...,  0.0000,  0.0000,  0.0000],\n",
      "        [-0.0008, -0.0008, -0.0008,  ..., -0.0008, -0.0008, -0.0008],\n",
      "        [-0.0028, -0.0028, -0.0028,  ..., -0.0028, -0.0028, -0.0028],\n",
      "        ...,\n",
      "        [ 0.0002,  0.0002,  0.0002,  ...,  0.0002,  0.0002,  0.0002],\n",
      "        [-0.0004, -0.0004, -0.0004,  ..., -0.0004, -0.0004, -0.0004],\n",
      "        [ 0.0015,  0.0015,  0.0015,  ...,  0.0015,  0.0015,  0.0015]])\n"
     ]
    }
   ],
   "source": [
    "print(\"before backward pass\\n\",model[0].weight.grad)\n",
    "\n",
    "loss.backward()\n",
    "\n",
    "print(\"After backward pass \\n\",model[0].weight.grad)"
   ]
  },
  {
   "cell_type": "markdown",
   "metadata": {},
   "source": [
    "## Optimization or parameters update"
   ]
  },
  {
   "cell_type": "code",
   "execution_count": 13,
   "metadata": {},
   "outputs": [
    {
     "name": "stdout",
     "output_type": "stream",
     "text": [
      "initial weights Parameter containing:\n",
      "tensor([[-0.0037,  0.0111,  0.0135,  ..., -0.0277,  0.0225,  0.0014],\n",
      "        [ 0.0218, -0.0304, -0.0290,  ..., -0.0056,  0.0168,  0.0057],\n",
      "        [ 0.0100,  0.0310, -0.0061,  ...,  0.0032, -0.0048,  0.0238],\n",
      "        ...,\n",
      "        [ 0.0192,  0.0305,  0.0057,  ...,  0.0010, -0.0248,  0.0140],\n",
      "        [ 0.0341,  0.0308, -0.0156,  ..., -0.0270,  0.0074, -0.0318],\n",
      "        [ 0.0260, -0.0331,  0.0125,  ...,  0.0314,  0.0062,  0.0164]],\n",
      "       requires_grad=True)\n",
      "Gradient- tensor([[ 0.0000,  0.0000,  0.0000,  ...,  0.0000,  0.0000,  0.0000],\n",
      "        [-0.0016, -0.0016, -0.0016,  ..., -0.0016, -0.0016, -0.0016],\n",
      "        [-0.0052, -0.0052, -0.0052,  ..., -0.0052, -0.0052, -0.0052],\n",
      "        ...,\n",
      "        [ 0.0011,  0.0011,  0.0011,  ...,  0.0011,  0.0011,  0.0011],\n",
      "        [-0.0018, -0.0018, -0.0018,  ..., -0.0018, -0.0018, -0.0018],\n",
      "        [ 0.0011,  0.0011,  0.0011,  ...,  0.0011,  0.0011,  0.0011]])\n",
      "Updated weights tensor([[ 0.0000,  0.0000,  0.0000,  ...,  0.0000,  0.0000,  0.0000],\n",
      "        [-0.0016, -0.0016, -0.0016,  ..., -0.0016, -0.0016, -0.0016],\n",
      "        [-0.0052, -0.0052, -0.0052,  ..., -0.0052, -0.0052, -0.0052],\n",
      "        ...,\n",
      "        [ 0.0011,  0.0011,  0.0011,  ...,  0.0011,  0.0011,  0.0011],\n",
      "        [-0.0018, -0.0018, -0.0018,  ..., -0.0018, -0.0018, -0.0018],\n",
      "        [ 0.0011,  0.0011,  0.0011,  ...,  0.0011,  0.0011,  0.0011]])\n"
     ]
    }
   ],
   "source": [
    "from torch import optim\n",
    "# optimizer requires the parameters to optimize and learning rate\n",
    "\n",
    "optimizer= optim.SGD(model.parameters(),lr=0.001)\n",
    "\n",
    "print(\"initial weights\",model[0].weight)\n",
    "\n",
    "images,labels=next(iter(trainloader))\n",
    "\n",
    "images.resize_(64,784)\n",
    "\n",
    "# Clear the gradients beacause gradienets are accumulated\n",
    "optimizer.zero_grad()\n",
    "\n",
    "#forward pass, backward pass then weighr updates\n",
    "output=model.forward(images)\n",
    "loss=criterion(output,labels)\n",
    "loss.backward()\n",
    "\n",
    "print(\"Gradient-\",model[0].weight.grad)\n",
    "\n",
    "# take an update step and few a new weights\n",
    "\n",
    "optimizer.step()\n",
    "print(\"Updated weights\",model[0].weight.grad)"
   ]
  },
  {
   "cell_type": "code",
   "execution_count": 14,
   "metadata": {},
   "outputs": [
    {
     "name": "stdout",
     "output_type": "stream",
     "text": [
      "training loss:2.310144621171931\n",
      "training loss:2.3101130177471427\n",
      "training loss:2.3101300085023015\n",
      "training loss:2.3101556687466878\n",
      "training loss:2.3101569940286404\n"
     ]
    }
   ],
   "source": [
    "model=nn.Sequential(nn.Linear(784,128),\n",
    "                    nn.ReLU(),\n",
    "                    nn.Linear(128,64),\n",
    "                    nn.ReLU(),\n",
    "                    nn.Linear(64,10),\n",
    "                    nn.LogSoftmax(dim=1))\n",
    "criterion=nn.NLLLoss()\n",
    "Optmizer=optim.SGD(model.parameters(),lr=0.003)\n",
    "\n",
    "epochs=5\n",
    "\n",
    "for e in range(epochs):\n",
    "    running_loss=0\n",
    "    for images,labels in trainloader:\n",
    "        # flatten images into 784 long vector\n",
    "        images=images.view(images.shape[0],-1)\n",
    "        \n",
    "        # training pass\n",
    "        optimizer.zero_grad()\n",
    "        \n",
    "        ouput=model(images)\n",
    "        loss=criterion(ouput,labels)\n",
    "        \n",
    "        loss.backward()\n",
    "        optimizer.step()\n",
    "        \n",
    "        running_loss+=loss.item()\n",
    "    else:\n",
    "        print(f\"training loss:{running_loss/len(trainloader)}\")\n",
    "\n"
   ]
  },
  {
   "cell_type": "markdown",
   "metadata": {},
   "source": [
    "## Exercise:\n",
    "# Classify MNIST data"
   ]
  },
  {
   "cell_type": "markdown",
   "metadata": {},
   "source": [
    "## Build network"
   ]
  },
  {
   "cell_type": "code",
   "execution_count": 15,
   "metadata": {},
   "outputs": [],
   "source": [
    "from torch import nn,optim\n",
    "import torch.nn.functional as F"
   ]
  },
  {
   "cell_type": "code",
   "execution_count": 40,
   "metadata": {},
   "outputs": [],
   "source": [
    "# Define network achitecture\n",
    "class Classifier(nn.Module):\n",
    "    def __init__(self):\n",
    "        super().__init__()\n",
    "        self.func1=nn.Linear(784,256)\n",
    "        self.func2=nn.Linear(256,128)\n",
    "        self.func3=nn.Linear(128,64)\n",
    "        self.func4=nn.Linear(64,10)\n",
    "    def forward(self,x):\n",
    "        # flatten tensor\n",
    "        x=x.view(x.shape[0],-1)\n",
    "        \n",
    "        x=F.relu(self.func1(x))\n",
    "        x=F.relu(self.func2(x))\n",
    "        x=F.relu(self.func3(x))\n",
    "        x=F.log_softmax(self.func4(x),dim=1)\n",
    "        \n",
    "        return x"
   ]
  },
  {
   "cell_type": "markdown",
   "metadata": {},
   "source": [
    "## Train network"
   ]
  },
  {
   "cell_type": "code",
   "execution_count": 17,
   "metadata": {},
   "outputs": [
    {
     "name": "stdout",
     "output_type": "stream",
     "text": [
      "training loss:320.40972320362926\n",
      "training loss:158.09952257573605\n",
      "training loss:125.9373313235119\n",
      "training loss:112.03945922642015\n",
      "training loss:96.64546694071032\n"
     ]
    }
   ],
   "source": [
    "# create network and define criterion and optimizer\n",
    "\n",
    "model=Classifier()\n",
    "criterion=nn.NLLLoss()\n",
    "optimizer= optim.Adam(model.parameters(),lr=0.003)\n",
    "\n",
    "# train network\n",
    "epochs=5\n",
    "for e in range(epochs):\n",
    "    running_loss=0\n",
    "    for images,labels in trainloader:\n",
    "        logps=model(images)\n",
    "        loss=criterion(logps,labels)\n",
    "        \n",
    "        optimizer.zero_grad()\n",
    "        loss.backward()\n",
    "        optimizer.step()\n",
    "        running_loss+=loss.item()\n",
    "    else:\n",
    "        print(f\"training loss:{running_loss}\")\n",
    "        \n",
    "        \n",
    "        "
   ]
  },
  {
   "cell_type": "markdown",
   "metadata": {},
   "source": [
    "## Output"
   ]
  },
  {
   "cell_type": "code",
   "execution_count": 36,
   "metadata": {},
   "outputs": [
    {
     "data": {
      "image/png": "[encoded data removed]",
      "text/plain": [
       "<Figure size 1440x360 with 20 Axes>"
      ]
     },
     "metadata": {
      "image/png": {
       "height": 260,
       "width": 1133
      }
     },
     "output_type": "display_data"
    }
   ],
   "source": [
    "import numpy as np\n",
    "import matplotlib.pyplot as plt\n",
    "\n",
    "%matplotlib inline\n",
    "    \n",
    "# obtain one batch of training images\n",
    "dataiter=iter(trainloader)\n",
    "images,labels=dataiter.next()\n",
    "images=images.numpy()\n",
    "\n",
    "# plot the images in the batch, along with the corresponding labels\n",
    "fig = plt.figure(figsize=(20,5))\n",
    "for idx in np.arange(batch_size):\n",
    "    ax = fig.add_subplot(2,batch_size/2,idx+1,xticks=[],yticks=[])\n",
    "    ax.imshow(np.squeeze(images[idx]),cmap='gray')\n",
    "    "
   ]
  },
  {
   "cell_type": "markdown",
   "metadata": {},
   "source": [
    "## Inference and validation"
   ]
  },
  {
   "cell_type": "code",
   "execution_count": 46,
   "metadata": {},
   "outputs": [
    {
     "name": "stdout",
     "output_type": "stream",
     "text": [
      "torch.Size([64, 10])\n"
     ]
    }
   ],
   "source": [
    "# get the class probabilities\n",
    "\n",
    "model=Classifier()\n",
    "\n",
    "dataiter=iter(trainloader)\n",
    "images,labels=dataiter.next()\n",
    "\n",
    "ps=torch.exp(model(images))\n",
    "print(ps.shape)"
   ]
  },
  {
   "cell_type": "code",
   "execution_count": 48,
   "metadata": {},
   "outputs": [
    {
     "name": "stdout",
     "output_type": "stream",
     "text": [
      "tensor([[7],\n",
      "        [4],\n",
      "        [5],\n",
      "        [4],\n",
      "        [1],\n",
      "        [5],\n",
      "        [1],\n",
      "        [4],\n",
      "        [5],\n",
      "        [5]])\n"
     ]
    }
   ],
   "source": [
    "top_p,top_class=ps.topk(1,dim=1)\n",
    "\n",
    "#look at most likely classes for the first 10 example\n",
    "print(top_class[:10,:])"
   ]
  },
  {
   "cell_type": "markdown",
   "metadata": {},
   "source": [
    "### check if prediction matches labels"
   ]
  },
  {
   "cell_type": "code",
   "execution_count": 50,
   "metadata": {},
   "outputs": [],
   "source": [
    "equals=top_class==labels.view(*top_class.shape)"
   ]
  },
  {
   "cell_type": "code",
   "execution_count": 52,
   "metadata": {},
   "outputs": [
    {
     "data": {
      "text/plain": [
       "tensor([[False],\n",
       "        [False],\n",
       "        [False],\n",
       "        [False],\n",
       "        [False],\n",
       "        [ True],\n",
       "        [False],\n",
       "        [False],\n",
       "        [False],\n",
       "        [False],\n",
       "        [False],\n",
       "        [False],\n",
       "        [False],\n",
       "        [False],\n",
       "        [False],\n",
       "        [ True],\n",
       "        [False],\n",
       "        [False],\n",
       "        [False],\n",
       "        [False],\n",
       "        [ True],\n",
       "        [False],\n",
       "        [False],\n",
       "        [ True],\n",
       "        [False],\n",
       "        [False],\n",
       "        [False],\n",
       "        [False],\n",
       "        [False],\n",
       "        [False],\n",
       "        [ True],\n",
       "        [False],\n",
       "        [False],\n",
       "        [False],\n",
       "        [False],\n",
       "        [False],\n",
       "        [ True],\n",
       "        [False],\n",
       "        [False],\n",
       "        [False],\n",
       "        [False],\n",
       "        [False],\n",
       "        [False],\n",
       "        [ True],\n",
       "        [False],\n",
       "        [False],\n",
       "        [False],\n",
       "        [False],\n",
       "        [False],\n",
       "        [False],\n",
       "        [ True],\n",
       "        [False],\n",
       "        [False],\n",
       "        [ True],\n",
       "        [False],\n",
       "        [False],\n",
       "        [False],\n",
       "        [ True],\n",
       "        [False],\n",
       "        [ True],\n",
       "        [False],\n",
       "        [ True],\n",
       "        [False],\n",
       "        [False]])"
      ]
     },
     "execution_count": 52,
     "metadata": {},
     "output_type": "execute_result"
    }
   ],
   "source": [
    "equals"
   ]
  },
  {
   "cell_type": "markdown",
   "metadata": {},
   "source": [
    "#### percentage of correct predictions"
   ]
  },
  {
   "cell_type": "code",
   "execution_count": 59,
   "metadata": {},
   "outputs": [
    {
     "name": "stdout",
     "output_type": "stream",
     "text": [
      "accuracy:18.75%\n"
     ]
    }
   ],
   "source": [
    "accuracy=torch.mean(equals.type(torch.FloatTensor))\n",
    "print(f'accuracy:{accuracy.item()*100}%')"
   ]
  },
  {
   "cell_type": "markdown",
   "metadata": {},
   "source": [
    "### Validation loop"
   ]
  },
  {
   "cell_type": "code",
   "execution_count": 64,
   "metadata": {},
   "outputs": [
    {
     "name": "stdout",
     "output_type": "stream",
     "text": [
      "Epochs:1/30 training_loss:315.773 test_loss:0.182 test accuracy:2359.250\n",
      "Epochs:2/30 training_loss:154.710 test_loss:0.174 test accuracy:2372.500\n",
      "Epochs:3/30 training_loss:127.520 test_loss:0.140 test accuracy:2393.500\n",
      "Epochs:4/30 training_loss:108.289 test_loss:0.128 test accuracy:2399.750\n",
      "Epochs:5/30 training_loss:100.394 test_loss:0.116 test accuracy:2423.750\n",
      "Epochs:6/30 training_loss:90.318 test_loss:0.191 test accuracy:2372.250\n",
      "Epochs:7/30 training_loss:86.211 test_loss:0.119 test accuracy:2417.750\n",
      "Epochs:8/30 training_loss:77.740 test_loss:0.107 test accuracy:2426.000\n",
      "Epochs:9/30 training_loss:77.441 test_loss:0.112 test accuracy:2425.750\n",
      "Epochs:10/30 training_loss:72.017 test_loss:0.114 test accuracy:2425.250\n",
      "Epochs:11/30 training_loss:69.040 test_loss:0.113 test accuracy:2423.500\n",
      "Epochs:12/30 training_loss:63.871 test_loss:0.122 test accuracy:2422.250\n",
      "Epochs:13/30 training_loss:67.135 test_loss:0.118 test accuracy:2421.500\n",
      "Epochs:14/30 training_loss:61.873 test_loss:0.125 test accuracy:2422.250\n",
      "Epochs:15/30 training_loss:61.022 test_loss:0.164 test accuracy:2404.500\n",
      "Epochs:16/30 training_loss:61.291 test_loss:0.100 test accuracy:2435.000\n",
      "Epochs:17/30 training_loss:57.555 test_loss:0.133 test accuracy:2417.500\n",
      "Epochs:18/30 training_loss:52.847 test_loss:0.124 test accuracy:2425.500\n",
      "Epochs:19/30 training_loss:53.353 test_loss:0.112 test accuracy:2432.750\n",
      "Epochs:20/30 training_loss:54.637 test_loss:0.107 test accuracy:2436.500\n",
      "Epochs:21/30 training_loss:50.677 test_loss:0.155 test accuracy:2410.250\n",
      "Epochs:22/30 training_loss:53.395 test_loss:0.116 test accuracy:2430.000\n",
      "Epochs:23/30 training_loss:50.016 test_loss:0.141 test accuracy:2424.500\n",
      "Epochs:24/30 training_loss:50.599 test_loss:0.117 test accuracy:2435.000\n",
      "Epochs:25/30 training_loss:46.535 test_loss:0.135 test accuracy:2430.000\n",
      "Epochs:26/30 training_loss:41.490 test_loss:0.134 test accuracy:2432.500\n",
      "Epochs:27/30 training_loss:49.817 test_loss:0.121 test accuracy:2435.000\n",
      "Epochs:28/30 training_loss:40.494 test_loss:0.136 test accuracy:2423.000\n",
      "Epochs:29/30 training_loss:44.972 test_loss:0.123 test accuracy:2437.500\n",
      "Epochs:30/30 training_loss:41.894 test_loss:0.153 test accuracy:2421.750\n"
     ]
    }
   ],
   "source": [
    "model=Classifier()\n",
    "criterion=nn.NLLLoss()\n",
    "optimizer=optim.Adam(model.parameters(),lr=0.003)\n",
    "\n",
    "epochs=30\n",
    "steps=0\n",
    "\n",
    "train_losses,test_losses=[],[]\n",
    "\n",
    "for e in range(epochs):\n",
    "    running_loss=0\n",
    "    for images,labels in trainloader:\n",
    "        optimizer.zero_grad()\n",
    "        log_ps=model(images)\n",
    "        loss=criterion(log_ps,labels)\n",
    "        loss.backward()\n",
    "        optimizer.step()\n",
    "        running_loss+=loss.item()\n",
    "    else:\n",
    "        test_loss=0\n",
    "        accuracy=0\n",
    "        # turn of gradients for validation it saves memory and computation\n",
    "        \n",
    "        with torch.no_grad():\n",
    "            for images,labels in testloader:\n",
    "                log_ps=model(images)\n",
    "                test_loss+=criterion(log_ps,labels)\n",
    "                \n",
    "                ps=torch.exp(log_ps)\n",
    "                top_p,top_class=ps.topk(1,dim=1)\n",
    "                equals=top_class==labels.view(*top_class.shape)\n",
    "                accuracy+=torch.mean(equals.type(torch.FloatTensor))\n",
    "                \n",
    "        train_losses.append(running_loss/len(trainloader))\n",
    "        test_losses.append(test_loss/len(testloader))\n",
    "        \n",
    "        print('Epochs:{}/{}'.format(e+1,epochs),\n",
    "              'training_loss:{:.3f}'.format(running_loss,len(trainloader)),\n",
    "               'test_loss:{:.3f}'.format(test_loss/len(testloader)),\n",
    "               'test accuracy:{:.3f}'.format(accuracy,len(testloader)))\n",
    "    "
   ]
  },
  {
   "cell_type": "code",
   "execution_count": 66,
   "metadata": {},
   "outputs": [
    {
     "data": {
      "text/plain": [
       "<matplotlib.legend.Legend at 0x2a342265ef0>"
      ]
     },
     "execution_count": 66,
     "metadata": {},
     "output_type": "execute_result"
    },
    {
     "data": {
      "image/png": "[encoded data removed]",
      "text/plain": [
       "<Figure size 432x288 with 1 Axes>"
      ]
     },
     "metadata": {
      "image/png": {
       "height": 251,
       "width": 380
      },
      "needs_background": "light"
     },
     "output_type": "display_data"
    }
   ],
   "source": [
    "plt.plot(train_losses,label='training loss')\n",
    "plt.plot(test_losses,label='validation loss')\n",
    "plt.legend(frameon=False)"
   ]
  },
  {
   "cell_type": "markdown",
   "metadata": {},
   "source": [
    "## Dropout  (one of the solution for overfitting)"
   ]
  },
  {
   "cell_type": "code",
   "execution_count": 67,
   "metadata": {},
   "outputs": [],
   "source": [
    "# Define network achitecture\n",
    "\n",
    "class Classifier(nn.Module):\n",
    "    def __init__(self):\n",
    "        super().__init__()\n",
    "        self.func1=nn.Linear(784,256)\n",
    "        self.func2=nn.Linear(256,128)\n",
    "        self.func3=nn.Linear(128,64)\n",
    "        self.func4=nn.Linear(64,10)\n",
    "        \n",
    "        #dropout module with 0.2  drop probability\n",
    "        self.dropout=nn.Dropout(p=0.2)\n",
    "        \n",
    "    def forward(self,x):\n",
    "        # flatten tensor\n",
    "        x=x.view(x.shape[0],-1)\n",
    "        \n",
    "        x=self.dropout(F.relu(self.func1(x)))\n",
    "        x=self.dropout(F.relu(self.func2(x)))\n",
    "        x=self.dropout(F.relu(self.func3(x)))\n",
    "       \n",
    "         # output so no dropout here\n",
    "        \n",
    "        x=F.log_softmax(self.func4(x),dim=1)\n",
    "        \n",
    "        return x"
   ]
  },
  {
   "cell_type": "code",
   "execution_count": 68,
   "metadata": {},
   "outputs": [
    {
     "name": "stdout",
     "output_type": "stream",
     "text": [
      "Epochs:1/30 training_loss:464.688 test_loss:0.247 test accuracy:2316.000\n",
      "Epochs:2/30 training_loss:275.965 test_loss:0.203 test accuracy:2345.750\n",
      "Epochs:3/30 training_loss:239.376 test_loss:0.164 test accuracy:2383.750\n",
      "Epochs:4/30 training_loss:224.961 test_loss:0.149 test accuracy:2388.750\n",
      "Epochs:5/30 training_loss:208.712 test_loss:0.125 test accuracy:2406.250\n",
      "Epochs:6/30 training_loss:203.023 test_loss:0.134 test accuracy:2402.500\n",
      "Epochs:7/30 training_loss:195.310 test_loss:0.137 test accuracy:2404.500\n",
      "Epochs:8/30 training_loss:200.381 test_loss:0.138 test accuracy:2396.750\n",
      "Epochs:9/30 training_loss:193.416 test_loss:0.144 test accuracy:2405.000\n",
      "Epochs:10/30 training_loss:182.841 test_loss:0.134 test accuracy:2405.500\n",
      "Epochs:11/30 training_loss:179.211 test_loss:0.119 test accuracy:2419.750\n",
      "Epochs:12/30 training_loss:179.638 test_loss:0.138 test accuracy:2401.500\n",
      "Epochs:13/30 training_loss:181.770 test_loss:0.118 test accuracy:2417.000\n",
      "Epochs:14/30 training_loss:175.054 test_loss:0.115 test accuracy:2420.250\n",
      "Epochs:15/30 training_loss:170.456 test_loss:0.125 test accuracy:2413.250\n",
      "Epochs:16/30 training_loss:174.453 test_loss:0.109 test accuracy:2427.000\n",
      "Epochs:17/30 training_loss:173.192 test_loss:0.114 test accuracy:2420.750\n",
      "Epochs:18/30 training_loss:160.079 test_loss:0.122 test accuracy:2413.750\n",
      "Epochs:19/30 training_loss:167.419 test_loss:0.128 test accuracy:2408.250\n",
      "Epochs:20/30 training_loss:165.487 test_loss:0.118 test accuracy:2423.500\n",
      "Epochs:21/30 training_loss:162.416 test_loss:0.114 test accuracy:2427.250\n",
      "Epochs:22/30 training_loss:155.810 test_loss:0.137 test accuracy:2414.500\n",
      "Epochs:23/30 training_loss:159.095 test_loss:0.106 test accuracy:2428.750\n",
      "Epochs:24/30 training_loss:157.825 test_loss:0.131 test accuracy:2419.250\n",
      "Epochs:25/30 training_loss:151.945 test_loss:0.118 test accuracy:2421.750\n",
      "Epochs:26/30 training_loss:154.845 test_loss:0.116 test accuracy:2427.750\n",
      "Epochs:27/30 training_loss:154.537 test_loss:0.120 test accuracy:2423.750\n",
      "Epochs:28/30 training_loss:152.711 test_loss:0.102 test accuracy:2436.000\n",
      "Epochs:29/30 training_loss:148.661 test_loss:0.112 test accuracy:2426.500\n",
      "Epochs:30/30 training_loss:152.148 test_loss:0.113 test accuracy:2424.250\n"
     ]
    }
   ],
   "source": [
    "model=Classifier()\n",
    "criterion=nn.NLLLoss()\n",
    "optimizer=optim.Adam(model.parameters(),lr=0.003)\n",
    "\n",
    "epochs=30\n",
    "steps=0\n",
    "\n",
    "train_losses,test_losses=[],[]\n",
    "\n",
    "for e in range(epochs):\n",
    "    running_loss=0\n",
    "    for images,labels in trainloader:\n",
    "        optimizer.zero_grad()\n",
    "        log_ps=model(images)\n",
    "        loss=criterion(log_ps,labels)\n",
    "        loss.backward()\n",
    "        optimizer.step()\n",
    "        running_loss+=loss.item()\n",
    "    else:\n",
    "        test_loss=0\n",
    "        accuracy=0\n",
    "        # turn of gradients for validation it saves memory and computation\n",
    "        \n",
    "        with torch.no_grad():\n",
    "            model.eval()\n",
    "            for images,labels in testloader:\n",
    "                log_ps=model(images)\n",
    "                test_loss+=criterion(log_ps,labels)\n",
    "                \n",
    "                ps=torch.exp(log_ps)\n",
    "                top_p,top_class=ps.topk(1,dim=1)\n",
    "                equals=top_class==labels.view(*top_class.shape)\n",
    "                accuracy+=torch.mean(equals.type(torch.FloatTensor))\n",
    "        model.train()\n",
    "                \n",
    "        train_losses.append(running_loss/len(trainloader))\n",
    "        test_losses.append(test_loss/len(testloader))\n",
    "        \n",
    "        print('Epochs:{}/{}'.format(e+1,epochs),\n",
    "              'training_loss:{:.3f}'.format(running_loss,len(trainloader)),\n",
    "               'test_loss:{:.3f}'.format(test_loss/len(testloader)),\n",
    "               'test accuracy:{:.3f}'.format(accuracy,len(testloader)))"
   ]
  },
  {
   "cell_type": "code",
   "execution_count": 69,
   "metadata": {},
   "outputs": [
    {
     "data": {
      "text/plain": [
       "<matplotlib.legend.Legend at 0x2a341ba8a20>"
      ]
     },
     "execution_count": 69,
     "metadata": {},
     "output_type": "execute_result"
    },
    {
     "data": {
      "image/png": "[encoded data removed]",
      "text/plain": [
       "<Figure size 432x288 with 1 Axes>"
      ]
     },
     "metadata": {
      "image/png": {
       "height": 250,
       "width": 380
      },
      "needs_background": "light"
     },
     "output_type": "display_data"
    }
   ],
   "source": [
    "plt.plot(train_losses,label='training loss')\n",
    "plt.plot(test_losses,label='validation loss')\n",
    "plt.legend(frameon=False)"
   ]
  }
 ],
 "metadata": {
  "kernelspec": {
   "display_name": "Python 3",
   "language": "python",
   "name": "python3"
  },
  "language_info": {
   "codemirror_mode": {
    "name": "ipython",
    "version": 3
   },
   "file_extension": ".py",
   "mimetype": "text/x-python",
   "name": "python",
   "nbconvert_exporter": "python",
   "pygments_lexer": "ipython3",
   "version": "3.7.3"
  }
 },
 "nbformat": 4,
 "nbformat_minor": 2
}
