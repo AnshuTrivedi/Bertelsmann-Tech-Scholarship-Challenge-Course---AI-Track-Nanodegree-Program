{
 "cells": [
  {
   "cell_type": "code",
   "execution_count": 6,
   "metadata": {},
   "outputs": [],
   "source": [
    "import torch"
   ]
  },
  {
   "cell_type": "code",
   "execution_count": 10,
   "metadata": {},
   "outputs": [],
   "source": [
    "def activation(x):\n",
    "    return 1/(1+torch.exp(-x))"
   ]
  },
  {
   "cell_type": "code",
   "execution_count": 11,
   "metadata": {},
   "outputs": [],
   "source": [
    "# create random data\n",
    "torch.manual_seed(10)\n",
    "\n",
    "# Features are 5 random variables\n",
    "features=torch.randn(1,5)\n",
    "\n",
    "# Define the size of each layer in NN\n",
    "n_input=features.shape[1]  # no of input units must match with input features\n",
    "n_hidden=2                 # no of hidden units\n",
    "n_output=1                 # no of output units\n",
    "\n",
    "#weights for input to hidden layer\n",
    "w1=torch.randn(n_input,n_hidden)\n",
    "\n",
    "# weights for hidden to output layer\n",
    "w2=torch.randn(n_hidden,n_output)\n",
    "\n",
    "# Bias terms for hidden and output layer\n",
    "b1=torch.randn(1,n_hidden)\n",
    "b2=torch.randn(1,n_output)"
   ]
  },
  {
   "cell_type": "code",
   "execution_count": 13,
   "metadata": {},
   "outputs": [
    {
     "name": "stdout",
     "output_type": "stream",
     "text": [
      "tensor([[0.6429]])\n"
     ]
    }
   ],
   "source": [
    "# create output for multilayer NN\n",
    "\n",
    "h=activation(torch.mm(features,w1)+b1)\n",
    "y=activation(torch.mm(h,w2)+b2)\n",
    "print(y)"
   ]
  },
  {
   "cell_type": "markdown",
   "metadata": {},
   "source": [
    "## Conversion between numpy array and torch tensors\n",
    "* `torch.from_numpy(var)`  numpy to tensor\n",
    "* `tensor.numpy()`      tensor to numpy"
   ]
  },
  {
   "cell_type": "code",
   "execution_count": 21,
   "metadata": {},
   "outputs": [
    {
     "name": "stdout",
     "output_type": "stream",
     "text": [
      "[[0.22030399 0.02066936 0.34933094]\n",
      " [0.52852816 0.87843255 0.44364433]\n",
      " [0.88360037 0.53087783 0.59276631]\n",
      " [0.38980349 0.59443321 0.82679226]]\n",
      "tensor([[0.2203, 0.0207, 0.3493],\n",
      "        [0.5285, 0.8784, 0.4436],\n",
      "        [0.8836, 0.5309, 0.5928],\n",
      "        [0.3898, 0.5944, 0.8268]], dtype=torch.float64)\n"
     ]
    },
    {
     "data": {
      "text/plain": [
       "array([[0.22030399, 0.02066936, 0.34933094],\n",
       "       [0.52852816, 0.87843255, 0.44364433],\n",
       "       [0.88360037, 0.53087783, 0.59276631],\n",
       "       [0.38980349, 0.59443321, 0.82679226]])"
      ]
     },
     "execution_count": 21,
     "metadata": {},
     "output_type": "execute_result"
    }
   ],
   "source": [
    "import numpy as np\n",
    "a=np.random.rand(4,3)\n",
    "print(a)\n",
    "\n",
    "# convert to tensor\n",
    "b=torch.from_numpy(a)\n",
    "print(b)\n",
    "\n",
    "# convert to numpy\n",
    "b.numpy()"
   ]
  },
  {
   "cell_type": "markdown",
   "metadata": {},
   "source": [
    "## memory is shared in between Numpy array  and Torch tensors , so changing values in place in one object will change in other"
   ]
  },
  {
   "cell_type": "code",
   "execution_count": 22,
   "metadata": {},
   "outputs": [
    {
     "data": {
      "text/plain": [
       "tensor([[0.4406, 0.0413, 0.6987],\n",
       "        [1.0571, 1.7569, 0.8873],\n",
       "        [1.7672, 1.0618, 1.1855],\n",
       "        [0.7796, 1.1889, 1.6536]], dtype=torch.float64)"
      ]
     },
     "execution_count": 22,
     "metadata": {},
     "output_type": "execute_result"
    }
   ],
   "source": [
    "b.mul_(2)"
   ]
  },
  {
   "cell_type": "code",
   "execution_count": 23,
   "metadata": {},
   "outputs": [
    {
     "name": "stdout",
     "output_type": "stream",
     "text": [
      "[[0.44060799 0.04133872 0.69866189]\n",
      " [1.05705633 1.7568651  0.88728866]\n",
      " [1.76720075 1.06175565 1.18553262]\n",
      " [0.77960698 1.18886642 1.65358451]]\n"
     ]
    }
   ],
   "source": [
    "print(a)"
   ]
  }
 ],
 "metadata": {
  "kernelspec": {
   "display_name": "Python 3",
   "language": "python",
   "name": "python3"
  },
  "language_info": {
   "codemirror_mode": {
    "name": "ipython",
    "version": 3
   },
   "file_extension": ".py",
   "mimetype": "text/x-python",
   "name": "python",
   "nbconvert_exporter": "python",
   "pygments_lexer": "ipython3",
   "version": "3.7.3"
  }
 },
 "nbformat": 4,
 "nbformat_minor": 2
}
